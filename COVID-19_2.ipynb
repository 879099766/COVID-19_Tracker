{
 "cells": [
  {
   "cell_type": "code",
   "execution_count": 1,
   "metadata": {},
   "outputs": [],
   "source": [
    "import requests\n",
    "import pandas as pd\n",
    "import folium\n",
    "from folium.plugins import HeatMap\n",
    "from bs4 import BeautifulSoup\n",
    "from opencage.geocoder import OpenCageGeocode"
   ]
  },
  {
   "cell_type": "code",
   "execution_count": 2,
   "metadata": {},
   "outputs": [],
   "source": [
    "def find_long_lat(county):\n",
    "    API_KEY = \"\"\n",
    "    geocoder = OpenCageGeocode(API_KEY)\n",
    "    location = county + \", NY\"\n",
    "    result = geocoder.geocode(location)\n",
    "    arr = [result[0]['geometry']['lat'], result[0]['geometry']['lng']]\n",
    "    return arr\n",
    "\n",
    "def create_county_df(county, popu):\n",
    "    pop = popu\n",
    "    lat = []\n",
    "    long = []\n",
    "    \n",
    "    for i in county:\n",
    "        temp = find_long_lat(i)\n",
    "        lat.append(temp[0])\n",
    "        long.append(temp[1])\n",
    "\n",
    "    dict = {'name': county, 'pop': pop, 'lat': lat, 'lon': long}\n",
    "    df = pd.DataFrame(dict)\n",
    "    df.to_csv('covid-County.csv', encoding='utf-8', index=False)\n",
    "    print(\"===== Successfully write CSV file =====\")"
   ]
  },
  {
   "cell_type": "code",
   "execution_count": 3,
   "metadata": {},
   "outputs": [
    {
     "name": "stdout",
     "output_type": "stream",
     "text": [
      "===== Successfully connected =====\n",
      "===== Successfully write CSV file =====\n",
      "===== Successfully assigned =====\n"
     ]
    }
   ],
   "source": [
    "page = requests.get(\"https://www.health.ny.gov/diseases/communicable/coronavirus/\")\n",
    "row_digit = []\n",
    "row_wrd = []\n",
    "\n",
    "if page.status_code == 200:\n",
    "    print(\"===== Successfully connected =====\")\n",
    "    soup = BeautifulSoup(page.content, 'html.parser')\n",
    "\n",
    "    result = soup.find(id='case_count_table')\n",
    "    # print(result.prettify())\n",
    "\n",
    "    for item in result.findAll('td'):\n",
    "        if item.getText() == \"New York State (Outside of NYC)\":\n",
    "            break\n",
    "\n",
    "        if item.getText().isdigit():\n",
    "            row_digit.append(item.getText())\n",
    "        else:\n",
    "            row_wrd.append(item.getText())\n",
    "            \n",
    "    create_county_df(row_wrd, row_digit)\n",
    "    print(\"===== Successfully assigned =====\")\n",
    "    \n",
    "else:\n",
    "    print(\"Unseccessfully connect to the URL\")"
   ]
  },
  {
   "cell_type": "code",
   "execution_count": 4,
   "metadata": {},
   "outputs": [
    {
     "data": {
      "text/html": [
       "<div style=\"width:100%;\"><div style=\"position:relative;width:100%;height:0;padding-bottom:60%;\"><iframe src=\"about:blank\" style=\"position:absolute;width:100%;height:100%;left:0;top:0;border:none !important;\" data-html=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 onload=\"this.contentDocument.open();this.contentDocument.write(atob(this.getAttribute('data-html')));this.contentDocument.close();\" allowfullscreen webkitallowfullscreen mozallowfullscreen></iframe></div></div>"
      ],
      "text/plain": [
       "<folium.folium.Map at 0x2120a9ac588>"
      ]
     },
     "execution_count": 4,
     "metadata": {},
     "output_type": "execute_result"
    }
   ],
   "source": [
    "map = folium.Map(location=[42.6884183, -77.0790249], tiles = \"openstreetmap\", control_scale=True, zoom_start=7)\n",
    "\n",
    "df = pd.read_csv('covid-County.csv')\n",
    "# stationArr = df[['lat', 'lon']].as_matrix()\n",
    "\n",
    "# plot heatmap\n",
    "# map.add_children(plugins.HeatMap(stationArr, radius=15))\n",
    "\n",
    "stationArr = HeatMap(data=df[['lat', 'lon', 'pop']].groupby(['lat', 'lon']).sum().reset_index().values.tolist(), radius=8, max_zoom=13, color=\"red\").add_to(map)\n",
    "\n",
    "# map.add_children(plugins.HeatMap(stationArr, radius=15))\n",
    "map"
   ]
  },
  {
   "cell_type": "code",
   "execution_count": null,
   "metadata": {},
   "outputs": [],
   "source": []
  }
 ],
 "metadata": {
  "kernelspec": {
   "display_name": "Python 3",
   "language": "python",
   "name": "python3"
  },
  "language_info": {
   "codemirror_mode": {
    "name": "ipython",
    "version": 3
   },
   "file_extension": ".py",
   "mimetype": "text/x-python",
   "name": "python",
   "nbconvert_exporter": "python",
   "pygments_lexer": "ipython3",
   "version": "3.7.6"
  },
  "pycharm": {
   "stem_cell": {
    "cell_type": "raw",
    "source": [],
    "metadata": {
     "collapsed": false
    }
   }
  }
 },
 "nbformat": 4,
 "nbformat_minor": 4
}